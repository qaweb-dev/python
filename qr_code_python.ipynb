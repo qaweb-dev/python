{
  "nbformat": 4,
  "nbformat_minor": 0,
  "metadata": {
    "colab": {
      "provenance": [],
      "authorship_tag": "ABX9TyOxNaA4ms96Abkt8wwyrJzN",
      "include_colab_link": true
    },
    "kernelspec": {
      "name": "python3",
      "display_name": "Python 3"
    },
    "language_info": {
      "name": "python"
    }
  },
  "cells": [
    {
      "cell_type": "markdown",
      "metadata": {
        "id": "view-in-github",
        "colab_type": "text"
      },
      "source": [
        "<a href=\"https://colab.research.google.com/github/qaweb-dev/python/blob/main/qr_code_python.ipynb\" target=\"_parent\"><img src=\"https://colab.research.google.com/assets/colab-badge.svg\" alt=\"Open In Colab\"/></a>"
      ]
    },
    {
      "cell_type": "markdown",
      "source": [
        "## Створення QR-коду в Python"
      ],
      "metadata": {
        "id": "iavgu4LgxV9s"
      }
    },
    {
      "cell_type": "code",
      "source": [
        "!pip install qrcode\n",
        "\n",
        "import qrcode\n",
        "\n",
        "# Дані для кодування\n",
        "data = \"https://qaweb.dev/ua\"\n",
        "\n",
        "# Створення QR-коду\n",
        "qr = qrcode.QRCode(\n",
        "    version=2,  # Розмір коду (від 1 до 40, де 1 — найменший)\n",
        "    error_correction=qrcode.constants.ERROR_CORRECT_L, # Рівень помилок\n",
        "    box_size=10,  # Розмір кожного квадратика в пікселях\n",
        "    border=4,  # Розмір межі (мінімум 4 для сканування)\n",
        ")\n",
        "\n",
        "# Додавання даних до QR-коду\n",
        "qr.add_data(data)\n",
        "qr.make(fit=True)\n",
        "\n",
        "# Генерація зображення QR-коду\n",
        "img = qr.make_image(fill_color=\"blue\", back_color=\"yellow\")\n",
        "\n",
        "# Збереження зображення\n",
        "img.save(\"qrcode.png\")\n",
        "\n",
        "print(\"QR-код успішно створено та збережено у файл qrcode.png\")"
      ],
      "metadata": {
        "colab": {
          "base_uri": "https://localhost:8080/"
        },
        "id": "RwJf5uPduiCn",
        "outputId": "4d66b118-b79e-462e-b3c0-d157ee80c4fe"
      },
      "execution_count": 5,
      "outputs": [
        {
          "output_type": "stream",
          "name": "stdout",
          "text": [
            "Requirement already satisfied: qrcode in /usr/local/lib/python3.10/dist-packages (8.0)\n",
            "QR-код успішно створено та збережено у файл qrcode.png\n"
          ]
        }
      ]
    }
  ]
}