{
  "nbformat": 4,
  "nbformat_minor": 0,
  "metadata": {
    "colab": {
      "provenance": [],
      "authorship_tag": "ABX9TyO69GyCEHFqg85RSmFqNSry",
      "include_colab_link": true
    },
    "kernelspec": {
      "name": "python3",
      "display_name": "Python 3"
    },
    "language_info": {
      "name": "python"
    }
  },
  "cells": [
    {
      "cell_type": "markdown",
      "metadata": {
        "id": "view-in-github",
        "colab_type": "text"
      },
      "source": [
        "<a href=\"https://colab.research.google.com/github/qaweb-dev/python/blob/main/sympy_examples.ipynb\" target=\"_parent\"><img src=\"https://colab.research.google.com/assets/colab-badge.svg\" alt=\"Open In Colab\"/></a>"
      ]
    },
    {
      "cell_type": "markdown",
      "source": [
        "# Приклади застосування SymPy"
      ],
      "metadata": {
        "id": "Aw4m6e1O7aC7"
      }
    },
    {
      "cell_type": "markdown",
      "source": [
        "Статтю до цих прикладів читайте тут: https://qaweb.dev/coding-ua/1020-sympy-python-colab"
      ],
      "metadata": {
        "id": "Vs4y_CnpBA0n"
      }
    },
    {
      "cell_type": "markdown",
      "source": [
        "### Приклад 1. Спрощення виразів"
      ],
      "metadata": {
        "id": "cWAAUe547kCe"
      }
    },
    {
      "cell_type": "markdown",
      "source": [
        "<p><strong>Задача:</strong> Спрощення виразу $\\sin(x)^2 + \\cos(x)^2)$</p>"
      ],
      "metadata": {
        "id": "GDeGruq3735l"
      }
    },
    {
      "cell_type": "code",
      "execution_count": 1,
      "metadata": {
        "colab": {
          "base_uri": "https://localhost:8080/"
        },
        "id": "_6uPqFtU7YqQ",
        "outputId": "16090135-55b9-4efb-9328-2497dad5ae09"
      },
      "outputs": [
        {
          "output_type": "stream",
          "name": "stdout",
          "text": [
            "1\n"
          ]
        }
      ],
      "source": [
        "from sympy import symbols, sin, cos, simplify\n",
        "\n",
        "x = symbols('x')\n",
        "expr = sin(x)**2 + cos(x)**2\n",
        "simplified_expr = simplify(expr)\n",
        "print(simplified_expr)"
      ]
    },
    {
      "cell_type": "markdown",
      "source": [
        "###Приклад 2. Розв'язання рівнянь"
      ],
      "metadata": {
        "id": "lzNfu-oh8fpr"
      }
    },
    {
      "cell_type": "markdown",
      "source": [
        "<strong>Задача:</strong> Знайти розв'язки рівняння $x^2 - 5x + 6 = 0$."
      ],
      "metadata": {
        "id": "lobJSCB58sD7"
      }
    },
    {
      "cell_type": "code",
      "source": [
        "from sympy import solve\n",
        "\n",
        "x = symbols('x')\n",
        "equation = x**2 - 5*x + 6\n",
        "solutions = solve(equation, x)\n",
        "print(solutions)"
      ],
      "metadata": {
        "colab": {
          "base_uri": "https://localhost:8080/"
        },
        "id": "jwCoLlcT7jkf",
        "outputId": "2a162b78-d514-4d7f-f54d-67439ce3a9c8"
      },
      "execution_count": 2,
      "outputs": [
        {
          "output_type": "stream",
          "name": "stdout",
          "text": [
            "[2, 3]\n"
          ]
        }
      ]
    },
    {
      "cell_type": "markdown",
      "source": [
        "###Приклад 3. Диференціювання"
      ],
      "metadata": {
        "id": "rgzgwc5S878j"
      }
    },
    {
      "cell_type": "markdown",
      "source": [
        "<p><strong>Задача:</strong> Обчислити похідну функції $\\sin(x) \\cdot e^x$.</p>"
      ],
      "metadata": {
        "id": "IRSJGJxq882S"
      }
    },
    {
      "cell_type": "code",
      "source": [
        "from sympy import exp, diff\n",
        "\n",
        "expr = sin(x) * exp(x)\n",
        "derivative = diff(expr, x)\n",
        "print(derivative)"
      ],
      "metadata": {
        "colab": {
          "base_uri": "https://localhost:8080/"
        },
        "id": "IWrZxx-V89xc",
        "outputId": "89760734-84ff-417c-f5bf-9390718624a7"
      },
      "execution_count": 4,
      "outputs": [
        {
          "output_type": "stream",
          "name": "stdout",
          "text": [
            "exp(x)*sin(x) + exp(x)*cos(x)\n"
          ]
        }
      ]
    },
    {
      "cell_type": "markdown",
      "source": [
        "###Приклад 4. Інтегрування"
      ],
      "metadata": {
        "id": "FCm8Ip7o9lNO"
      }
    },
    {
      "cell_type": "markdown",
      "source": [
        "<p><strong>Задача:</strong> Обчислити невизначений інтеграл $\\int e^{-x^2}dx$.</p>"
      ],
      "metadata": {
        "id": "e0P41gb-9lb5"
      }
    },
    {
      "cell_type": "code",
      "source": [
        "from sympy import integrate\n",
        "\n",
        "expr = exp(-x**2)\n",
        "indef_integral = integrate(expr, x)\n",
        "print(indef_integral)"
      ],
      "metadata": {
        "colab": {
          "base_uri": "https://localhost:8080/"
        },
        "id": "5u75sSbf9l98",
        "outputId": "00511574-97a8-48b4-fbab-acbdc7484838"
      },
      "execution_count": 5,
      "outputs": [
        {
          "output_type": "stream",
          "name": "stdout",
          "text": [
            "sqrt(pi)*erf(x)/2\n"
          ]
        }
      ]
    },
    {
      "cell_type": "markdown",
      "source": [
        "###Приклад 5. Робота з матрицями"
      ],
      "metadata": {
        "id": "Sdk3baDt-KdC"
      }
    },
    {
      "cell_type": "markdown",
      "source": [
        "<p><strong>Задача:</strong> Знайти визначник матриці:</p>\n",
        "<p>\n",
        "$$\\left(\\begin{array}{c}1 & 2\\\\ 3 & 4\\end{array}\\right)$$\n",
        "</p>"
      ],
      "metadata": {
        "id": "SEgopoCr-K1t"
      }
    },
    {
      "cell_type": "code",
      "source": [
        "from sympy import Matrix\n",
        "\n",
        "matrix = Matrix([[1, 2], [3, 4]])\n",
        "det = matrix.det()\n",
        "print(det)"
      ],
      "metadata": {
        "colab": {
          "base_uri": "https://localhost:8080/"
        },
        "id": "_Oq4p5tX-LSB",
        "outputId": "fe5aa291-820b-4502-d30f-83ad8741af15"
      },
      "execution_count": 6,
      "outputs": [
        {
          "output_type": "stream",
          "name": "stdout",
          "text": [
            "-2\n"
          ]
        }
      ]
    },
    {
      "cell_type": "markdown",
      "source": [
        "###Приклад 6. Ряди Тейлора"
      ],
      "metadata": {
        "id": "CQlFdY1L-f6Z"
      }
    },
    {
      "cell_type": "markdown",
      "source": [
        "<p><strong>Задача:</strong> Знайти розклад функції $e^x$ до другого порядку біля точки $x = 0$.</p>"
      ],
      "metadata": {
        "id": "988FwhqY-gLo"
      }
    },
    {
      "cell_type": "code",
      "source": [
        "from sympy import series\n",
        "\n",
        "expr = exp(x)\n",
        "taylor_series = series(expr, x, 0, 3)\n",
        "print(taylor_series)"
      ],
      "metadata": {
        "colab": {
          "base_uri": "https://localhost:8080/"
        },
        "id": "9YgpEROz-gaL",
        "outputId": "1e92f516-48a8-4364-f0f0-fea64a304054"
      },
      "execution_count": 7,
      "outputs": [
        {
          "output_type": "stream",
          "name": "stdout",
          "text": [
            "1 + x + x**2/2 + O(x**3)\n"
          ]
        }
      ]
    },
    {
      "cell_type": "markdown",
      "source": [
        "###Приклад 7. Розв'язання систем рівнянь"
      ],
      "metadata": {
        "id": "LjuLGlOI_FJB"
      }
    },
    {
      "cell_type": "markdown",
      "source": [
        "<p><strong>Задача:</strong> Знайти розв'язки системи:</p>\n",
        "<p>$$\n",
        "\\begin{cases}x^2 + y^2 = 1\\\\x - y = 0\\end{cases}$$\n",
        "</p>\n"
      ],
      "metadata": {
        "id": "wZyEEov0_FX7"
      }
    },
    {
      "cell_type": "code",
      "source": [
        "from sympy import Eq\n",
        "\n",
        "x, y = symbols('x y')\n",
        "equations = [Eq(x**2 + y**2, 1), Eq(x - y, 0)]\n",
        "solutions = solve(equations, (x, y))\n",
        "print(solutions)"
      ],
      "metadata": {
        "colab": {
          "base_uri": "https://localhost:8080/"
        },
        "id": "a-XNOC2k_FxB",
        "outputId": "7a5644b9-601a-4925-c215-ac5d98ce0f3e"
      },
      "execution_count": 8,
      "outputs": [
        {
          "output_type": "stream",
          "name": "stdout",
          "text": [
            "[(-sqrt(2)/2, -sqrt(2)/2), (sqrt(2)/2, sqrt(2)/2)]\n"
          ]
        }
      ]
    },
    {
      "cell_type": "markdown",
      "source": [
        "###Приклад 8. Символічне обчислення власних значень"
      ],
      "metadata": {
        "id": "cU4_aKfV_YnS"
      }
    },
    {
      "cell_type": "markdown",
      "source": [
        "<p><strong>Задача:</strong> Знайти власні значення матриці:</p>\n",
        "<p>\n",
        "$$\\left(\\begin{array}{c}2 & -1\\\\ -1 & 2\\end{array}\\right)$$\n",
        "</p>"
      ],
      "metadata": {
        "id": "KzFhtJFf_Y2b"
      }
    },
    {
      "cell_type": "code",
      "source": [
        "matrix = Matrix([[2, -1], [-1, 2]])\n",
        "eigenvalues = matrix.eigenvals()\n",
        "print(eigenvalues)"
      ],
      "metadata": {
        "colab": {
          "base_uri": "https://localhost:8080/"
        },
        "id": "Gapg-Eub_ZPh",
        "outputId": "de1c5577-3756-47bd-9b60-dc9a7f97cac0"
      },
      "execution_count": 9,
      "outputs": [
        {
          "output_type": "stream",
          "name": "stdout",
          "text": [
            "{3: 1, 1: 1}\n"
          ]
        }
      ]
    },
    {
      "cell_type": "markdown",
      "source": [
        "###Приклад 9. Розв'язання диференціальних рівнянь"
      ],
      "metadata": {
        "id": "SN2A2c95_rVX"
      }
    },
    {
      "cell_type": "markdown",
      "source": [
        "<p><strong>Задача:</strong> Розв'язати рівняння:</p>\n",
        "<p>\n",
        "$$y'' + y = 0$$\n",
        "</p>"
      ],
      "metadata": {
        "id": "34Y8ZMJD_rjR"
      }
    },
    {
      "cell_type": "code",
      "source": [
        "from sympy import Function, dsolve\n",
        "\n",
        "y = Function('y')\n",
        "t = symbols('t')\n",
        "deq = Eq(y(t).diff(t, t) + y(t), 0)\n",
        "solution = dsolve(deq, y(t))\n",
        "print(solution)"
      ],
      "metadata": {
        "colab": {
          "base_uri": "https://localhost:8080/"
        },
        "id": "GQhavvwo_r9S",
        "outputId": "2f219458-46d3-4bab-a8d8-8d135eb02307"
      },
      "execution_count": 10,
      "outputs": [
        {
          "output_type": "stream",
          "name": "stdout",
          "text": [
            "Eq(y(t), C1*sin(t) + C2*cos(t))\n"
          ]
        }
      ]
    },
    {
      "cell_type": "markdown",
      "source": [
        "###Приклад 10. Обчислення інтегралів з параметрами"
      ],
      "metadata": {
        "id": "FJExmk5fAlG3"
      }
    },
    {
      "cell_type": "markdown",
      "source": [
        "<p><strong>Задача:</strong> Обчислити інтеграл:</p>\n",
        "<p>\n",
        "$$ \\int_0^a x^n \\, dx $$\n",
        "</p>"
      ],
      "metadata": {
        "id": "RcIiir_IAlVq"
      }
    },
    {
      "cell_type": "code",
      "source": [
        "from sympy import Symbol\n",
        "\n",
        "a, n = symbols('a n', positive=True)\n",
        "expr = x**n\n",
        "param_integral = integrate(expr, (x, 0, a))\n",
        "print(param_integral)"
      ],
      "metadata": {
        "colab": {
          "base_uri": "https://localhost:8080/"
        },
        "id": "iuvwwNVuAlpx",
        "outputId": "7c0074c4-cbac-4a33-c2cf-35f090512e5b"
      },
      "execution_count": 11,
      "outputs": [
        {
          "output_type": "stream",
          "name": "stdout",
          "text": [
            "a**(n + 1)/(n + 1)\n"
          ]
        }
      ]
    }
  ]
}